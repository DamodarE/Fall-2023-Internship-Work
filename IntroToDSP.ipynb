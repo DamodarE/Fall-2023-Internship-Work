{
 "cells": [
  {
   "cell_type": "markdown",
   "metadata": {},
   "source": [
    "Problem 1"
   ]
  },
  {
   "cell_type": "markdown",
   "metadata": {},
   "source": [
    "a.)\tSampling is the conversion of a continuous-time signal into a sequence of discrete-time signals. A sample is an individual value of a signal at some time value. \n",
    "\n",
    "Mathematical Definition: \n",
    "\n",
    "\n",
    "\n",
    "\n",
    "b.)\t Aliasing is when a reconstructed discrete time signal does not recreate the original continuous signal because the sampling rate is too slow for the specific frequency, creating a graph with a lower frequency.\n",
    "\n",
    "c.)\tThe Nyquist Theorem suggests that in order to avoid aliasing, you must use a sampling rate of at least 2 times the maximum frequency of a continuous signal. For the signal f(t), the minimum sampling rate to avoid aliasing would be:                      \n",
    "\n",
    " $2 * \\frac{1}{T_s}$"
   ]
  },
  {
   "cell_type": "markdown",
   "metadata": {},
   "source": [
    "d.)"
   ]
  },
  {
   "cell_type": "code",
   "execution_count": 40,
   "metadata": {},
   "outputs": [
    {
     "name": "stdout",
     "output_type": "stream",
     "text": [
      "Minimum Sampling Rate: 6 kHz\n"
     ]
    }
   ],
   "source": [
    "maxFrequency = 3 #[kHz]\n",
    "minSample = maxFrequency * 2\n",
    "print (f'{\"Minimum Sampling Rate: \"}{minSample}{\" kHz\"}')\n"
   ]
  },
  {
   "cell_type": "markdown",
   "metadata": {},
   "source": [
    "Problem 2"
   ]
  },
  {
   "cell_type": "markdown",
   "metadata": {},
   "source": [
    "a.) Quantization is the discretization of the continuous amplitudes of a discrete signal. The bit depth sets the number of levels that continuous values can latch onto, creating a defined value that can be stored in memory\n"
   ]
  },
  {
   "cell_type": "markdown",
   "metadata": {},
   "source": [
    "b.)"
   ]
  },
  {
   "cell_type": "code",
   "execution_count": 41,
   "metadata": {},
   "outputs": [
    {
     "name": "stdout",
     "output_type": "stream",
     "text": [
      "8 bits step size: 9.96e-01\n",
      "16 bits step size: 3.89e-03\n",
      "32 bits step size: 5.94e-08\n"
     ]
    }
   ],
   "source": [
    "dynamicRange = 255  #(Maximum value - minimum value)\n",
    "\n",
    "print(f'{\"8 bits step size: \"}{dynamicRange/(pow(2, 8)):.2e}')\n",
    "print(f'{\"16 bits step size: \"}{dynamicRange/(pow(2, 16)):.2e}')\n",
    "print(f'{\"32 bits step size: \"}{dynamicRange/(pow(2, 32)):.2e}')\n",
    "\n",
    "\n",
    "\n"
   ]
  },
  {
   "cell_type": "markdown",
   "metadata": {},
   "source": [
    "c.)\tThe trade-off between bit-depth and quantization error is that a greater bit-depth has greater precision but requires much more storage and bandwidth while a greater quantization error has less precision. A large quantization error can distort the signal to the point of becoming completely different from the original."
   ]
  },
  {
   "cell_type": "markdown",
   "metadata": {},
   "source": [
    "Problem 3"
   ]
  },
  {
   "cell_type": "markdown",
   "metadata": {},
   "source": [
    "a.) "
   ]
  },
  {
   "cell_type": "markdown",
   "metadata": {},
   "source": []
  }
 ],
 "metadata": {
  "kernelspec": {
   "display_name": "myenv",
   "language": "python",
   "name": "python3"
  },
  "language_info": {
   "codemirror_mode": {
    "name": "ipython",
    "version": 3
   },
   "file_extension": ".py",
   "mimetype": "text/x-python",
   "name": "python",
   "nbconvert_exporter": "python",
   "pygments_lexer": "ipython3",
   "version": "3.11.4"
  },
  "orig_nbformat": 4
 },
 "nbformat": 4,
 "nbformat_minor": 2
}
