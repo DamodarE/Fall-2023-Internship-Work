{
 "cells": [
  {
   "cell_type": "markdown",
   "metadata": {},
   "source": [
    "Part A"
   ]
  },
  {
   "cell_type": "code",
   "execution_count": 144,
   "metadata": {},
   "outputs": [
    {
     "name": "stdout",
     "output_type": "stream",
     "text": [
      "1\n",
      "2\n",
      "3\n",
      "4\n",
      "5\n",
      "6\n",
      "7\n",
      "8\n",
      "9\n"
     ]
    }
   ],
   "source": [
    "import numpy as np\n",
    "\n",
    "matrixA =  np.array([[1, 2, 3],[4, 5, 6],[7, 8, 9]])\n",
    "matrixB =  np.array([[1, 2, 3],[4, 5, 6],[7, 8, 9]])\n",
    "mmatrixC =  np.array([[2, 2, 2],[2, 2, 2],[2, 2, 2]])\n",
    "mmatrixD =  np.array([[2, 2],[2, 2]])\n",
    "\n",
    "for i in matrixA:\n",
    "    for j in i:\n",
    "        print(j)"
   ]
  },
  {
   "cell_type": "markdown",
   "metadata": {},
   "source": [
    "Part B\n",
    "\n",
    "i. Transposing a matrix is the process of flippig or rotating a matrix. The transpose of a matrix is obtained by interchanging rows into columns or columns to rows. For example, the second element in the first row in column A would move and become the second element in the first column. "
   ]
  },
  {
   "cell_type": "code",
   "execution_count": 145,
   "metadata": {},
   "outputs": [
    {
     "name": "stdout",
     "output_type": "stream",
     "text": [
      "Transposed Matrix A:\n",
      "[[1 4 7]\n",
      " [2 5 8]\n",
      " [3 6 9]]\n"
     ]
    }
   ],
   "source": [
    "print(\"Transposed Matrix A:\\n\" + str(np.transpose(matrixA)))"
   ]
  },
  {
   "cell_type": "markdown",
   "metadata": {},
   "source": [
    "Part C"
   ]
  },
  {
   "cell_type": "code",
   "execution_count": 146,
   "metadata": {},
   "outputs": [
    {
     "name": "stdout",
     "output_type": "stream",
     "text": [
      "A + B = \n",
      "[[ 2  4  6]\n",
      " [ 8 10 12]\n",
      " [14 16 18]]\n",
      "\n",
      "A - B = \n",
      "[[0 0 0]\n",
      " [0 0 0]\n",
      " [0 0 0]]\n",
      "\n",
      "A + C = \n",
      "[[ 3  4  5]\n",
      " [ 6  7  8]\n",
      " [ 9 10 11]]\n",
      "\n",
      "A - C = \n",
      "[[-1  0  1]\n",
      " [ 2  3  4]\n",
      " [ 5  6  7]]\n"
     ]
    }
   ],
   "source": [
    "print(\"A + B = \\n\" + str(matrixA + matrixB))\n",
    "print()\n",
    "print(\"A - B = \\n\" + str(matrixA - matrixB))\n",
    "print()\n",
    "print(\"A + C = \\n\" + str(matrixA + matrixC))\n",
    "print()\n",
    "print(\"A - C = \\n\" + str(matrixA - matrixC))"
   ]
  },
  {
   "cell_type": "markdown",
   "metadata": {},
   "source": [
    "ii.) When matrix D is added or subtracted with any of the other matrices, then it results in an error because the matrices are two different sizes. Matrix addition and subtraction work by adding elements that are in the same position, so the matrices must be exact same size."
   ]
  },
  {
   "cell_type": "markdown",
   "metadata": {},
   "source": [
    "Part D\n",
    "\n",
    "i.) Scalar multiplaction is when a matrix is multiplied by a singe real number. In scalar multiplication, each entry in the matrix is multiplied by the given scalar."
   ]
  },
  {
   "cell_type": "code",
   "execution_count": 147,
   "metadata": {},
   "outputs": [
    {
     "name": "stdout",
     "output_type": "stream",
     "text": [
      "A = \n",
      "[[1 2 3]\n",
      " [4 5 6]\n",
      " [7 8 9]]\n",
      "\n",
      "2A = \n",
      "[[ 2  4  6]\n",
      " [ 8 10 12]\n",
      " [14 16 18]]\n"
     ]
    }
   ],
   "source": [
    "print(\"A = \\n\" + str(matrixA))\n",
    "\n",
    "print(\"\")\n",
    "\n",
    "print(\"2A = \\n\" + str(2 * matrixA))"
   ]
  },
  {
   "cell_type": "markdown",
   "metadata": {},
   "source": [
    "ii.) In element-wise multiplication, two matrices of the same size are muiltiplied together. Each element in matrix is multiplied to the corresponding element in the other matrix. The product of the matrices is a matrix of the same size as the input matrices."
   ]
  },
  {
   "cell_type": "code",
   "execution_count": 148,
   "metadata": {},
   "outputs": [
    {
     "name": "stdout",
     "output_type": "stream",
     "text": [
      "A x B = \n",
      "[[ 1  4  9]\n",
      " [16 25 36]\n",
      " [49 64 81]]\n"
     ]
    }
   ],
   "source": [
    "print(\"A x B = \\n\" + str(matrixA * matrixB))"
   ]
  },
  {
   "cell_type": "markdown",
   "metadata": {},
   "source": [
    "iii.) Dot products multiplication involves multiplying the rows in the first matrix by the second matrix. All the first matrix elements in the row are multiplied with their corresponding element in the column of the second matrix. These products are then summed and added to a new matrix start from the top left and moving the the right. The size of the product matrix is the rows of columns in the first matrix by the number of columns in the second matrix. For example, a 2 x 3 matrix multiplied with a 3 x 2 matrix would result in a 2x2 matrix."
   ]
  },
  {
   "cell_type": "code",
   "execution_count": 149,
   "metadata": {},
   "outputs": [
    {
     "name": "stdout",
     "output_type": "stream",
     "text": [
      "A x B= \n",
      "[[ 30  36  42]\n",
      " [ 66  81  96]\n",
      " [102 126 150]]\n"
     ]
    }
   ],
   "source": [
    "print(\"A x B= \\n\" + str(np.dot(matrixA, matrixB)))"
   ]
  },
  {
   "cell_type": "markdown",
   "metadata": {},
   "source": [
    "iv.) Cross Product Multiplication is multiplication of vectors in $\\R_3 $ whose product is a vector that is orgthogonal or perpendicular to the two vectors. For example, say $ A = [a_1, a_2, a_3]$ and $B = [b_1, b_2, b_3]$, the cross product of the matrices would be $$[a_2b_3 - b_2a_3, a_3b_1 - b_3a_1, a_1b_2 - b_1a_2] $$"
   ]
  },
  {
   "cell_type": "code",
   "execution_count": 150,
   "metadata": {},
   "outputs": [
    {
     "name": "stdout",
     "output_type": "stream",
     "text": [
      "A[0] x A[1] = [-3  6 -3]\n",
      "\n",
      "A x C = \n",
      "[[-2  4 -2]\n",
      " [-2  4 -2]\n",
      " [-2  4 -2]]\n"
     ]
    }
   ],
   "source": [
    "print(\"A[0] x A[1] = \" + str(np.cross(matrixA[0], matrixA[1])))\n",
    "print()\n",
    "print(\"A x C = \\n\" + str(np.cross(matrixA, matrixC)))\n"
   ]
  },
  {
   "cell_type": "markdown",
   "metadata": {},
   "source": [
    "Part E\n",
    "\n",
    "The identity matrix is the n x n matrix that is in Row Reduced Echelon Form with the pivots in all columns. This means that there are ones going across the diagonal and zeroes above and below all the the ones. The identity matrix of an existing matrix is the same size as the matrix but replace with ones and zeroes."
   ]
  },
  {
   "cell_type": "code",
   "execution_count": 151,
   "metadata": {},
   "outputs": [
    {
     "name": "stdout",
     "output_type": "stream",
     "text": [
      "A x Iₐ= \n",
      "[[1 2 3]\n",
      " [4 5 6]\n",
      " [7 8 9]]\n"
     ]
    }
   ],
   "source": [
    "matrixI = np.array([[1,0,0], [0,1,0], [0,0,1]])\n",
    "print(\"A x \" + \"I{}\".format('\\N{LATIN SUBSCRIPT SMALL LETTER A}') + \"= \\n\" + str(np.dot(matrixA, matrixI)))"
   ]
  },
  {
   "cell_type": "markdown",
   "metadata": {},
   "source": [
    "Part F\n",
    "\n",
    "Matrix inversion is the determination of a matrix that can multiply with a matrix to create the identity matrix. In a 2x2 Matrix, the first and fourth elements are swapped, the second and third elements are multiplied by -1, and the matrix is multiplied by $\\frac{1}{ad-bc}$. If a matrix is invertible, it implicates that the column and row vectors are linearly independent frome each other. "
   ]
  }
 ],
 "metadata": {
  "kernelspec": {
   "display_name": "myenv",
   "language": "python",
   "name": "python3"
  },
  "language_info": {
   "codemirror_mode": {
    "name": "ipython",
    "version": 3
   },
   "file_extension": ".py",
   "mimetype": "text/x-python",
   "name": "python",
   "nbconvert_exporter": "python",
   "pygments_lexer": "ipython3",
   "version": "3.11.4"
  },
  "orig_nbformat": 4
 },
 "nbformat": 4,
 "nbformat_minor": 2
}
