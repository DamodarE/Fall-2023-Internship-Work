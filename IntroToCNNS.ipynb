{
 "cells": [
  {
   "cell_type": "markdown",
   "metadata": {},
   "source": [
    "Problem 1\n",
    "\n",
    "a.)"
   ]
  },
  {
   "cell_type": "code",
   "execution_count": 1,
   "metadata": {},
   "outputs": [
    {
     "name": "stdout",
     "output_type": "stream",
     "text": [
      "WARNING:tensorflow:From c:\\Users\\Damodar\\anaconda3\\envs\\myenv\\Lib\\site-packages\\keras\\src\\losses.py:2976: The name tf.losses.sparse_softmax_cross_entropy is deprecated. Please use tf.compat.v1.losses.sparse_softmax_cross_entropy instead.\n",
      "\n"
     ]
    },
    {
     "data": {
      "image/png": "[encoded data removed]",
      "text/plain": [
       "<Figure size 640x480 with 4 Axes>"
      ]
     },
     "metadata": {},
     "output_type": "display_data"
    },
    {
     "data": {
      "image/png": "[encoded data removed]",
      "text/plain": [
       "<Figure size 640x480 with 1 Axes>"
      ]
     },
     "metadata": {},
     "output_type": "display_data"
    }
   ],
   "source": [
    "import numpy as np\n",
    "import matplotlib.pyplot as plt\n",
    "from keras.datasets import mnist\n",
    "\n",
    "(train_X, train_y), (test_X, test_y) = mnist.load_data()\n",
    " \n",
    "for i in range(4): \n",
    "    plt.subplot(141 + i)\n",
    "    plt.imshow(train_X[i], cmap='gray')\n",
    "    plt.axis('off')\n",
    "\n",
    "\n",
    "plt.figure()\n",
    "plt.hist(train_y, bins=range(11), align='left', rwidth=0.8)\n",
    "plt.xticks(range(10))\n",
    "plt.ylim(0,7000)\n",
    "\n",
    "plt.title(\"Label Distribution\")\n",
    "plt.xlabel(\"Numbers\")\n",
    "plt.ylabel(\"Frequency (Out of 60,000)\")\n",
    "plt.grid()\n",
    "plt.show()"
   ]
  },
  {
   "cell_type": "markdown",
   "metadata": {},
   "source": [
    "Classes are the different things that are being detected, identified, or separated in a dataset. For this dataset, the numbers 0 - 9 are individual classes. Each data item in a data set is already given a label which corresponds to a specific class. Machine learning models use the labels to train and check their work to see if they can accurately make predicitons. "
   ]
  },
  {
   "cell_type": "markdown",
   "metadata": {},
   "source": [
    "ii)"
   ]
  },
  {
   "cell_type": "code",
   "execution_count": 2,
   "metadata": {},
   "outputs": [
    {
     "name": "stdout",
     "output_type": "stream",
     "text": [
      "Image Shapes: \n",
      "(60000,)\n"
     ]
    }
   ],
   "source": [
    "print(\"Image Shapes: \")\n",
    "print(str(train_y.shape))"
   ]
  },
  {
   "cell_type": "markdown",
   "metadata": {},
   "source": [
    "The pixel values are between 0 and 255 but are in grayscale, whihc means that a pixel vlaue of 0 is white while a value of 255 is completely black"
   ]
  },
  {
   "cell_type": "markdown",
   "metadata": {},
   "source": [
    "Problem 2)\n",
    "\n",
    "a)"
   ]
  },
  {
   "cell_type": "markdown",
   "metadata": {},
   "source": [
    "i.) Convolutional layers are fundamental in image processing for extracting features from input data. In the context of neural networks, Conv2D is specifically designed for 2D spatial convolution, which is suitable for image data. They take 5 parameters: filters, kernel size, strides, padding, and activation. Strides is the step size for moving the filter over the input data, padding determines how to handle the borders of the input, and activation is the specific activation function applied, like ReLU.\n",
    "\n",
    "ii.) Pooling layers are used to reduce the spatial dimensions of the input volume, thus reducing computation in the network and controlling overfitting. Pooling layers take 3 types of parameters: pool_size, padding, and strides. Strides and padding are the same thing mentioned in convolutional layers and pool_size is the size of the overall pooling window.\n",
    "\n",
    "iii.) Activation functions are applied element-wise to the output of a layer, transforming the input into the output of the layer. Specifically, activation layers introduce non-linearities into the network, allowing it to learn complex patterns. For example, the ReLU activation function is a effective function that replaces all negative values in the input with zero and leaves positive values unchanged.The sigmoid activation function constricts input values to the range of 0 to 1. It is commonly used in the output layer of binary classification models, where the goal is to produce a probability.\n",
    "\n",
    "iv.) A fully connected layer connects every neuron in one layer to every neuron in the next layer and is also known as a dense layer. The fully connected layer takes an activation function as a perimeter. The Global Average Pooling (GAP) is used to reduce the spatial dimensions of each feature map to a single value, effectively converting the entire spatial information into a compact representation. Batch Normalization normalizes the input of a layer by adjusting and scaling the activations. It helps with faster convergence during training and reduces sensitivity to weight initialization. BatchNorm takes the momentum and epsilon as parameters."
   ]
  },
  {
   "cell_type": "markdown",
   "metadata": {},
   "source": [
    "Problem 3"
   ]
  },
  {
   "cell_type": "code",
   "execution_count": 3,
   "metadata": {},
   "outputs": [
    {
     "name": "stdout",
     "output_type": "stream",
     "text": [
      "WARNING:tensorflow:From c:\\Users\\Damodar\\anaconda3\\envs\\myenv\\Lib\\site-packages\\keras\\src\\backend.py:873: The name tf.get_default_graph is deprecated. Please use tf.compat.v1.get_default_graph instead.\n",
      "\n",
      "WARNING:tensorflow:From c:\\Users\\Damodar\\anaconda3\\envs\\myenv\\Lib\\site-packages\\keras\\src\\layers\\pooling\\max_pooling2d.py:161: The name tf.nn.max_pool is deprecated. Please use tf.nn.max_pool2d instead.\n",
      "\n",
      "Model: \"sequential\"\n",
      "_________________________________________________________________\n",
      " Layer (type)                Output Shape              Param #   \n",
      "=================================================================\n",
      " conv2d (Conv2D)             (None, 26, 26, 32)        320       \n",
      "                                                                 \n",
      " max_pooling2d (MaxPooling2  (None, 13, 13, 32)        0         \n",
      " D)                                                              \n",
      "                                                                 \n",
      " conv2d_1 (Conv2D)           (None, 11, 11, 64)        18496     \n",
      "                                                                 \n",
      " max_pooling2d_1 (MaxPoolin  (None, 5, 5, 64)          0         \n",
      " g2D)                                                            \n",
      "                                                                 \n",
      " flatten (Flatten)           (None, 1600)              0         \n",
      "                                                                 \n",
      " dense (Dense)               (None, 10)                16010     \n",
      "                                                                 \n",
      "=================================================================\n",
      "Total params: 34826 (136.04 KB)\n",
      "Trainable params: 34826 (136.04 KB)\n",
      "Non-trainable params: 0 (0.00 Byte)\n",
      "_________________________________________________________________\n",
      "WARNING:tensorflow:From c:\\Users\\Damodar\\anaconda3\\envs\\myenv\\Lib\\site-packages\\keras\\src\\optimizers\\__init__.py:309: The name tf.train.Optimizer is deprecated. Please use tf.compat.v1.train.Optimizer instead.\n",
      "\n",
      "Epoch 1/5\n",
      "WARNING:tensorflow:From c:\\Users\\Damodar\\anaconda3\\envs\\myenv\\Lib\\site-packages\\keras\\src\\utils\\tf_utils.py:492: The name tf.ragged.RaggedTensorValue is deprecated. Please use tf.compat.v1.ragged.RaggedTensorValue instead.\n",
      "\n",
      "WARNING:tensorflow:From c:\\Users\\Damodar\\anaconda3\\envs\\myenv\\Lib\\site-packages\\keras\\src\\engine\\base_layer_utils.py:384: The name tf.executing_eagerly_outside_functions is deprecated. Please use tf.compat.v1.executing_eagerly_outside_functions instead.\n",
      "\n",
      "938/938 [==============================] - 9s 9ms/step - loss: 0.2011 - accuracy: 0.9400\n",
      "Epoch 2/5\n",
      "938/938 [==============================] - 8s 9ms/step - loss: 0.0610 - accuracy: 0.9817\n",
      "Epoch 3/5\n",
      "938/938 [==============================] - 8s 9ms/step - loss: 0.0444 - accuracy: 0.9871\n",
      "Epoch 4/5\n",
      "938/938 [==============================] - 8s 9ms/step - loss: 0.0363 - accuracy: 0.9887\n",
      "Epoch 5/5\n",
      "938/938 [==============================] - 8s 8ms/step - loss: 0.0300 - accuracy: 0.9905\n"
     ]
    }
   ],
   "source": [
    "import keras\n",
    "from keras import layers, models\n",
    "from keras.utils import to_categorical\n",
    "from sklearn.metrics import confusion_matrix\n",
    "\n",
    "(train_images, train_labels), (test_images, test_labels) = mnist.load_data()\n",
    "\n",
    "train_images = train_images.reshape((60000, 28, 28, 1)).astype('float32') / 255\n",
    "test_images = test_images.reshape((10000, 28, 28, 1)).astype('float32') / 255\n",
    "\n",
    "train_labels = to_categorical(train_labels)\n",
    "test_labels = to_categorical(test_labels)\n",
    "\n",
    "model = models.Sequential()\n",
    "\n",
    "model.add(layers.Conv2D(32, (3, 3), activation='relu', input_shape=(28, 28, 1)))\n",
    "model.add(layers.MaxPooling2D((2, 2)))\n",
    "model.add(layers.Conv2D(64, (3, 3), activation='relu'))\n",
    "model.add(layers.MaxPooling2D((2, 2)))\n",
    "model.add(layers.Flatten())\n",
    "model.add(layers.Dense(10, activation='softmax'))\n",
    "\n",
    "model.summary()\n",
    "model.compile(optimizer='adam', loss='categorical_crossentropy', metrics=['accuracy'])\n",
    "\n",
    "history = model.fit(train_images, train_labels, epochs=5, batch_size=64)\n",
    "\n"
   ]
  },
  {
   "cell_type": "markdown",
   "metadata": {},
   "source": [
    "Problem 4"
   ]
  },
  {
   "cell_type": "code",
   "execution_count": 4,
   "metadata": {},
   "outputs": [
    {
     "name": "stdout",
     "output_type": "stream",
     "text": [
      "313/313 [==============================] - 1s 2ms/step\n",
      "Confusion Matrix:\n",
      "[[ 972    0    1    0    2    0    1    2    2    0]\n",
      " [   0 1133    1    0    0    0    1    0    0    0]\n",
      " [   1    2 1016    0    3    0    1    7    2    0]\n",
      " [   0    0    1  999    0    3    0    3    4    0]\n",
      " [   0    0    0    0  981    0    0    0    0    1]\n",
      " [   2    0    0    5    0  878    3    1    1    2]\n",
      " [   2    2    0    0    4    2  945    0    3    0]\n",
      " [   0    2    1    2    2    0    0 1019    1    1]\n",
      " [   3    0    2    0    1    1    0    1  965    1]\n",
      " [   0    3    0    0    9    2    0    4    1  990]]\n"
     ]
    }
   ],
   "source": [
    "predicted_labels = np.argmax(model.predict(test_images), axis=1)\n",
    "true_labels = np.argmax(test_labels, axis=1)\n",
    "\n",
    "\n",
    "conf_matrix = confusion_matrix(true_labels, predicted_labels)\n",
    "print(\"Confusion Matrix:\")\n",
    "print(conf_matrix)"
   ]
  },
  {
   "cell_type": "code",
   "execution_count": 5,
   "metadata": {},
   "outputs": [
    {
     "name": "stdout",
     "output_type": "stream",
     "text": [
      "313/313 [==============================] - 1s 2ms/step - loss: 0.0310 - accuracy: 0.9898\n",
      "\n",
      "Test accuracy: 98.98%\n"
     ]
    }
   ],
   "source": [
    "test_loss, test_acc = model.evaluate(test_images, test_labels)\n",
    "print(f\"\\nTest accuracy: {test_acc * 100:.2f}%\")"
   ]
  }
 ],
 "metadata": {
  "kernelspec": {
   "display_name": "myenv",
   "language": "python",
   "name": "python3"
  },
  "language_info": {
   "codemirror_mode": {
    "name": "ipython",
    "version": 3
   },
   "file_extension": ".py",
   "mimetype": "text/x-python",
   "name": "python",
   "nbconvert_exporter": "python",
   "pygments_lexer": "ipython3",
   "version": "3.11.4"
  }
 },
 "nbformat": 4,
 "nbformat_minor": 2
}
